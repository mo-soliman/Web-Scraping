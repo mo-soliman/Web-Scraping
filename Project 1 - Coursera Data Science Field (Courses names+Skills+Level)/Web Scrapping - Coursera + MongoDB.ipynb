{
 "cells": [
  {
   "cell_type": "code",
   "execution_count": null,
   "metadata": {},
   "outputs": [],
   "source": [
    "## The aim of this file is to scrape the coursera website specifically (data-science) courses.\n",
    "## And get the corresponding required skills and level of difficulty of each course.\n",
    "## Not only this! But also save this information into MongoDB. (DataBase)\n",
    "## All of these will be done by google chrome driver & pymongo"
   ]
  },
  {
   "cell_type": "code",
   "execution_count": null,
   "metadata": {},
   "outputs": [],
   "source": [
    "#Import the needed libraries\n",
    "from selenium import webdriver\n",
    "import time\n",
    "from bs4 import BeautifulSoup\n",
    "from selenium.webdriver.support import expected_conditions as EC\n",
    "from selenium.webdriver.common.by import By\n",
    "from selenium.webdriver.support.ui import WebDriverWait\n",
    "import pymongo"
   ]
  },
  {
   "cell_type": "code",
   "execution_count": null,
   "metadata": {},
   "outputs": [],
   "source": [
    "#Open google chrome driver\n",
    "chromeBrowser = webdriver.Chrome(executable_path=r\"C:\\Users\\Owner\\Desktop\\iNetworks - Internship\\1\\chromedriver.exe\")\n",
    "chromeBrowser.implicitly_wait(2) # seconds"
   ]
  },
  {
   "cell_type": "code",
   "execution_count": null,
   "metadata": {},
   "outputs": [],
   "source": [
    "#Go to the base URL of data-science\n",
    "URL = 'https://www.coursera.org/browse/data-science'\n",
    "chromeBrowser.get(URL)\n",
    "time.sleep(5) "
   ]
  },
  {
   "cell_type": "code",
   "execution_count": null,
   "metadata": {},
   "outputs": [],
   "source": [
    "#Function: Skill dropdown button (Click on it)\n",
    "\n",
    "def skill_drop_down_click():\n",
    "    skills = chromeBrowser.find_elements_by_class_name('Button_1w8tm98-o_O-icon_1rbfoc-o_O-sm_pd780u')[0]\n",
    "    skills.click()\n",
    "    time.sleep(0.25) \n",
    "    \n",
    "##EOF"
   ]
  },
  {
   "cell_type": "code",
   "execution_count": null,
   "metadata": {},
   "outputs": [],
   "source": [
    "#Function: Level dropdown button (Click on it)\n",
    "\n",
    "def Level_drop_down_click():\n",
    "    levels = chromeBrowser.find_elements_by_class_name('Button_1w8tm98-o_O-icon_1rbfoc-o_O-sm_pd780u')[2]\n",
    "    levels.click()\n",
    "    time.sleep(0.25) \n",
    "    \n",
    "##EOF"
   ]
  },
  {
   "cell_type": "code",
   "execution_count": null,
   "metadata": {},
   "outputs": [],
   "source": [
    "##Function: Click on apply button\n",
    "\n",
    "def click_apply():\n",
    "    apply_button = chromeBrowser.find_elements_by_class_name('Button_1w8tm98-o_O-primary_cv02ee-o_O-md_1jvotax')[0]\n",
    "    apply_button.click()\n",
    "    \n",
    "    delay = 10\n",
    "    try:\n",
    "        WebDriverWait(chromeBrowser, delay).until(EC.presence_of_element_located((By.CLASS_NAME, 'ReactVirtualized__Grid__innerScrollContainer')))\n",
    "    except TimeoutException:\n",
    "        print(\"Loading took too much time!\")\n",
    "        \n",
    "    html = chromeBrowser.page_source #Get the html code of the new page with the selected filters.\n",
    "    soup = BeautifulSoup(html, 'html.parser')\n",
    "    return soup\n",
    "##EOF"
   ]
  },
  {
   "cell_type": "code",
   "execution_count": null,
   "metadata": {},
   "outputs": [],
   "source": [
    "##Function: Return the name of the courses with the selected filters\n",
    "Courses_names = []\n",
    "def courses_names(soup):\n",
    "    time.sleep(0.5) \n",
    "    Courses_div = soup.find(\"div\",{\"class\":\"ReactVirtualized__Grid__innerScrollContainer\"})\n",
    "    if(Courses_div is None):\n",
    "        time.sleep(2)\n",
    "        Courses_div = soup.find(\"div\",{\"class\":\"ReactVirtualized__Grid__innerScrollContainer\"})\n",
    "        \n",
    "    Courses = Courses_div.find_all(\"a\", {\"data-click-key\":\"browse.browse.click.offering_card\"})\n",
    "    \n",
    "    ##For loop to get all the courses names\n",
    "    for course_num in range(len(Courses)):\n",
    "        Courses_names.append(Courses[course_num]['aria-label'])\n",
    "    ##End of for\n",
    "    return courses_names"
   ]
  },
  {
   "cell_type": "code",
   "execution_count": null,
   "metadata": {},
   "outputs": [],
   "source": [
    "##Function: Click on clear all filter\n",
    "\n",
    "def clear_all_filter():\n",
    "    clear_filter = chromeBrowser.find_elements_by_class_name(\"divider_1mxyv2r-o_O-Box_120drhm-o_O-centerAlign_19zvu2s-o_O-displayflex_poyjc\")[0]\n",
    "    clear_filter.click()\n",
    "    time.sleep(0.25) "
   ]
  },
  {
   "cell_type": "code",
   "execution_count": null,
   "metadata": {},
   "outputs": [],
   "source": [
    "##Function: Click on Type and then select courses only.\n",
    "\n",
    "def type_courses():\n",
    "    type_ = chromeBrowser.find_elements_by_class_name(\"Button_1w8tm98-o_O-icon_1rbfoc-o_O-sm_pd780u\")[4]\n",
    "    type_.click()\n",
    "    time.sleep(0.25)\n",
    "    select_courses = chromeBrowser.find_elements_by_class_name(\"input_3xha1c-o_O-active_ro0g1e\")[0]\n",
    "    select_courses.click()"
   ]
  },
  {
   "cell_type": "code",
   "execution_count": null,
   "metadata": {},
   "outputs": [],
   "source": [
    "##Function: To clear the skills only.\n",
    "\n",
    "def clear_skills_only():\n",
    "    clear_skills = chromeBrowser.find_element_by_class_name(\"Button_1w8tm98-o_O-link_wjki9h-o_O-md_1jvotax.filter-clear-button\")\n",
    "    clear_skills.click()\n",
    "    time.sleep(0.25)\n",
    "    apply_button = chromeBrowser.find_elements_by_class_name('Button_1w8tm98-o_O-primary_cv02ee-o_O-md_1jvotax')[0]\n",
    "    apply_button.click()\n",
    "    time.sleep(0.25)"
   ]
  },
  {
   "cell_type": "code",
   "execution_count": null,
   "metadata": {},
   "outputs": [],
   "source": [
    "#Helper function\n",
    "#To check if the course already exist in my dict. then append the new skill\n",
    "#If the course doesn't exist then create a new course.\n",
    "def Course_exist(name):\n",
    "    all_keys = list(data_struct.keys())\n",
    "    for i in range (0, len(all_keys)):\n",
    "        if(all_keys[i] == name):\n",
    "            return True\n",
    "    return False"
   ]
  },
  {
   "cell_type": "code",
   "execution_count": null,
   "metadata": {},
   "outputs": [],
   "source": [
    "#Illustration\n",
    "#Shape of data structure\n",
    "test = {\"Course1\": [\"Linear Algebra\", \"Machine Learning\", \"Problem Solving\"]}\n",
    "test[\"Course1\"].append(\"New Skill\")\n",
    "test"
   ]
  },
  {
   "cell_type": "code",
   "execution_count": null,
   "metadata": {},
   "outputs": [],
   "source": [
    "data_struct = {}"
   ]
  },
  {
   "cell_type": "code",
   "execution_count": null,
   "metadata": {},
   "outputs": [],
   "source": [
    "#Function to save the acquired data into mongo database.\n",
    "def saveToDB(collection, course_name_l, skill_l):\n",
    "    course_name_l = course_name_l.replace(\".\", \" \").replace(\"%\", \"\").replace(\"&\", \"\")\n",
    "    result = collection.count_documents({\"Course\": course_name_l})\n",
    "    if result <= 0:\n",
    "        collection.insert_one({\"Course\" : course_name_l, \"Skills\" : [skill_l]})\n",
    "    elif result > 0:\n",
    "        x = collection.find_one({\"Course\": course_name_l})\n",
    "        temp = x[\"Skills\"]\n",
    "        temp.append(skill_l)\n",
    "        collection.find_one_and_replace({'Course': course_name_l}, {\"Course\" : course_name_l, \"Skills\" : temp})"
   ]
  },
  {
   "cell_type": "code",
   "execution_count": null,
   "metadata": {},
   "outputs": [],
   "source": [
    "#Connect to localhost mongodb.\n",
    "client = pymongo.MongoClient(\"mongodb://localhost:27017/\")\n",
    "mydb = client[\"iNetworks\"]\n",
    "mycol = mydb[\"Skills_Levels_Courses\"]\n",
    "mycol.delete_many({}) #To initialize the collection."
   ]
  },
  {
   "cell_type": "code",
   "execution_count": null,
   "metadata": {},
   "outputs": [],
   "source": [
    "## Main program number 1 to loop on all the skills\n",
    "skill_name = \"\"\n",
    "Courses_names = []\n",
    "data_struct = {}\n",
    "\n",
    "type_courses() ##To select courses only.\n",
    "skill_drop_down_click()\n",
    "skills_f = chromeBrowser.find_elements_by_class_name('input_3xha1c-o_O-active_ro0g1e')\n",
    "length = len(skills_f)\n",
    "\n",
    "for index in range (0,length):\n",
    "    \n",
    "    #The following line to fix the session bug.\n",
    "    skill_drop_down_click() #Call function\n",
    "    skills_f = chromeBrowser.find_elements_by_class_name('input_3xha1c-o_O-active_ro0g1e')\n",
    "    \n",
    "    # Choose specific skill\n",
    "    skill_name = skills_f[index].get_attribute('value')\n",
    "    skills_f[index].click()\n",
    "    time.sleep(0.5)\n",
    "    # End of choose specific skill\n",
    "    \n",
    "    soup = click_apply() #Call function\n",
    "    time.sleep(0.25)\n",
    "    courses_names(soup) #Call function\n",
    "    \n",
    "    for course in range(0,len(Courses_names)):\n",
    "        saveToDB(mycol, Courses_names[course], skill_name) #This line will save into mongodb.\n",
    "        EXIST = Course_exist(Courses_names[course]) #The following lines will save into our ordinary dict.\n",
    "        if (not EXIST):\n",
    "            data_struct.update({Courses_names[course]: [skill_name]})\n",
    "        elif (EXIST):\n",
    "            data_struct[Courses_names[course]].append(skill_name)\n",
    "            \n",
    "    skill_drop_down_click() #Call function\n",
    "    clear_skills_only() #Call function\n",
    "    \n",
    "    Courses_names = []\n",
    "    skill_name = []\n",
    "    time.sleep(0.25)\n",
    "       "
   ]
  },
  {
   "cell_type": "code",
   "execution_count": null,
   "metadata": {},
   "outputs": [],
   "source": [
    "#To export the dict to a csv file.\n",
    "import csv"
   ]
  },
  {
   "cell_type": "code",
   "execution_count": null,
   "metadata": {},
   "outputs": [],
   "source": [
    "#Write the dictonary(Course & Skills) to a csv file\n",
    "with open('JobReq2.csv', 'w', newline='',encoding=\"utf-8\") as file:\n",
    "    fieldnames = ['Course', 'Skills']\n",
    "    writer = csv.DictWriter(file, fieldnames=fieldnames)\n",
    "    \n",
    "    KEYS = list(data_struct.keys())\n",
    "    writer.writeheader()\n",
    "    for i in range (0, len(data_struct)):\n",
    "        writer.writerow({'Course': KEYS[i], 'Skills': data_struct.get(KEYS[i])})\n",
    "    "
   ]
  },
  {
   "cell_type": "code",
   "execution_count": null,
   "metadata": {},
   "outputs": [],
   "source": [
    "## Now get the level of each course\n",
    "import pandas as pd"
   ]
  },
  {
   "cell_type": "code",
   "execution_count": null,
   "metadata": {},
   "outputs": [],
   "source": [
    "#Get the saved dataset(Course and skill only), we will add the level of each course now.\n",
    "df = pd.read_csv(r'C:\\Users\\Owner\\Desktop\\iNetworks - Internship\\JobReq.csv')  "
   ]
  },
  {
   "cell_type": "code",
   "execution_count": null,
   "metadata": {},
   "outputs": [],
   "source": [
    "#Glimpse\n",
    "df.head()"
   ]
  },
  {
   "cell_type": "code",
   "execution_count": null,
   "metadata": {},
   "outputs": [],
   "source": [
    "#New column corresponding to the level\n",
    "df[\"Level\"] = \"\""
   ]
  },
  {
   "cell_type": "code",
   "execution_count": null,
   "metadata": {},
   "outputs": [],
   "source": [
    "#To know the number of rows.\n",
    "df.info()"
   ]
  },
  {
   "cell_type": "code",
   "execution_count": null,
   "metadata": {},
   "outputs": [],
   "source": [
    "#To avoid the repetition of the courses when getting the html files of the levels (Because I scroll down to their might be\n",
    "#duplicates)\n",
    "def Course_exist2(name):\n",
    "    for i in range (0, len(Courses_names_2)):\n",
    "        if(Courses_names_2[i] == name):\n",
    "            return True\n",
    "    return False"
   ]
  },
  {
   "cell_type": "code",
   "execution_count": null,
   "metadata": {},
   "outputs": [],
   "source": [
    "#To get a list of the course and the corresponding level\n",
    "Courses_names_2 = []\n",
    "def Choose_all_courses():    \n",
    "    for i in range (0,35):\n",
    "        html = chromeBrowser.page_source #Get the html code of the new page with the selected filters.\n",
    "        soup = BeautifulSoup(html, 'html.parser')\n",
    "        Courses_div = soup.find(\"div\",{\"class\":\"ReactVirtualized__Grid__innerScrollContainer\"})\n",
    "        Courses = Courses_div.find_all(\"a\", {\"data-click-key\":\"browse.browse.click.offering_card\"})\n",
    "\n",
    "        ##For loop to get all the courses names\n",
    "        for course_num in range(len(Courses)):\n",
    "            EXIST = Course_exist2(Courses[course_num]['aria-label'])\n",
    "            if (not EXIST):\n",
    "                Courses_names_2.append(Courses[course_num]['aria-label'])\n",
    "        \n",
    "        ##End of for\n",
    "    \n",
    "        time.sleep(0.25)\n",
    "        chromeBrowser.execute_script(\"window.scrollTo(0, window.scrollY + 1500)\")\n",
    "        time.sleep(0.25)\n",
    "    "
   ]
  },
  {
   "cell_type": "code",
   "execution_count": null,
   "metadata": {},
   "outputs": [],
   "source": [
    "#To select the beginner level\n",
    "def Beginner_click():   \n",
    "    Beginner = chromeBrowser.find_elements_by_class_name('input_3xha1c-o_O-active_ro0g1e')[1]\n",
    "    Beginner.click()\n",
    "    time.sleep(0.25) "
   ]
  },
  {
   "cell_type": "code",
   "execution_count": null,
   "metadata": {},
   "outputs": [],
   "source": [
    "#To select the intermediate level\n",
    "def Intermediate_click():  \n",
    "    Intermediate = chromeBrowser.find_elements_by_class_name('input_3xha1c-o_O-active_ro0g1e')[2]\n",
    "    Intermediate.click()\n",
    "    time.sleep(0.25) "
   ]
  },
  {
   "cell_type": "code",
   "execution_count": null,
   "metadata": {},
   "outputs": [],
   "source": [
    "#To select the advanced level\n",
    "def Advanced_click():\n",
    "    Advanced = chromeBrowser.find_elements_by_class_name('input_3xha1c-o_O-active_ro0g1e')[3]\n",
    "    Advanced.click()\n",
    "    time.sleep(0.25) "
   ]
  },
  {
   "cell_type": "code",
   "execution_count": null,
   "metadata": {},
   "outputs": [],
   "source": [
    "#To write the beginner level\n",
    "def write_beginner():\n",
    "    for i in range (0,372):\n",
    "        for j in range (0,len(Courses_names_2)):\n",
    "            if (df['Course'][i] == Courses_names_2[j]):\n",
    "                df[\"Level\"][i] = df[\"Level\"][i] + \"Beginner \""
   ]
  },
  {
   "cell_type": "code",
   "execution_count": null,
   "metadata": {},
   "outputs": [],
   "source": [
    "#To write the intermediate level\n",
    "def write_intermediate():\n",
    "    for i in range (0,372):\n",
    "        for j in range (0,len(Courses_names_2)):\n",
    "            if (df['Course'][i] == Courses_names_2[j]):\n",
    "                df[\"Level\"][i] = df[\"Level\"][i] + \"Intermediate \""
   ]
  },
  {
   "cell_type": "code",
   "execution_count": null,
   "metadata": {},
   "outputs": [],
   "source": [
    "#To write the advanced level\n",
    "def write_advanced():\n",
    "    for i in range (0,372):\n",
    "        for j in range (0,len(Courses_names_2)):\n",
    "            if (df['Course'][i] == Courses_names_2[j]):\n",
    "                df[\"Level\"][i] = df[\"Level\"][i] + \"Advanced \""
   ]
  },
  {
   "cell_type": "code",
   "execution_count": null,
   "metadata": {},
   "outputs": [],
   "source": [
    "## Main program number 2 to loop on all the levels\n",
    "\n",
    "for i in range(0,3):\n",
    "    type_courses() ##To select courses only.\n",
    "    Level_drop_down_click()\n",
    "    if (i == 0):\n",
    "        Beginner_click()\n",
    "    elif(i == 1):\n",
    "        Intermediate_click()\n",
    "    elif(i == 2):\n",
    "        Advanced_click()   \n",
    "    apply_button = chromeBrowser.find_elements_by_class_name('Button_1w8tm98-o_O-primary_cv02ee-o_O-md_1jvotax')[0]\n",
    "    apply_button.click()\n",
    "    time.sleep(5)\n",
    "    Choose_all_courses()\n",
    "    if (i == 0):\n",
    "        write_beginner()\n",
    "    elif(i == 1):\n",
    "        write_intermediate()\n",
    "    elif(i == 2):\n",
    "        write_advanced()\n",
    "    chromeBrowser.execute_script(\"window.scrollTo(0, -10000)\")\n",
    "    clear_all_filter()\n",
    "    time.sleep(1)"
   ]
  },
  {
   "cell_type": "code",
   "execution_count": null,
   "metadata": {},
   "outputs": [],
   "source": [
    "#Final data frame\n",
    "df.head()"
   ]
  },
  {
   "cell_type": "code",
   "execution_count": null,
   "metadata": {},
   "outputs": [],
   "source": [
    "#Write the data frame to a csv file\n",
    "## FINAL DATASET (Course with the corresponding skill and level)\n",
    "df.to_csv('Final.csv',index=False)"
   ]
  },
  {
   "cell_type": "code",
   "execution_count": null,
   "metadata": {},
   "outputs": [],
   "source": []
  },
  {
   "cell_type": "code",
   "execution_count": null,
   "metadata": {},
   "outputs": [],
   "source": []
  }
 ],
 "metadata": {
  "kernelspec": {
   "display_name": "Python 3",
   "language": "python",
   "name": "python3"
  },
  "language_info": {
   "codemirror_mode": {
    "name": "ipython",
    "version": 3
   },
   "file_extension": ".py",
   "mimetype": "text/x-python",
   "name": "python",
   "nbconvert_exporter": "python",
   "pygments_lexer": "ipython3",
   "version": "3.7.4"
  }
 },
 "nbformat": 4,
 "nbformat_minor": 2
}
